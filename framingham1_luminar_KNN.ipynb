{
  "nbformat": 4,
  "nbformat_minor": 0,
  "metadata": {
    "colab": {
      "private_outputs": true,
      "provenance": [],
      "include_colab_link": true
    },
    "kernelspec": {
      "name": "python3",
      "display_name": "Python 3"
    },
    "language_info": {
      "name": "python"
    }
  },
  "cells": [
    {
      "cell_type": "markdown",
      "metadata": {
        "id": "view-in-github",
        "colab_type": "text"
      },
      "source": [
        "<a href=\"https://colab.research.google.com/github/remizah/Luminar_projects/blob/main/framingham1_luminar_KNN.ipynb\" target=\"_parent\"><img src=\"https://colab.research.google.com/assets/colab-badge.svg\" alt=\"Open In Colab\"/></a>"
      ]
    },
    {
      "cell_type": "code",
      "execution_count": null,
      "metadata": {
        "id": "VqmuUR633Iwe"
      },
      "outputs": [],
      "source": [
        "import pandas as pd\n",
        "df=pd.read_csv('/content/drive/MyDrive/Datasets/framingham.csv')\n",
        "df"
      ]
    },
    {
      "cell_type": "code",
      "source": [
        "from google.colab import drive\n",
        "drive.mount('/content/drive')"
      ],
      "metadata": {
        "id": "WXjEOFJeGqq7"
      },
      "execution_count": null,
      "outputs": []
    },
    {
      "cell_type": "code",
      "source": [
        "df.isna().sum()"
      ],
      "metadata": {
        "id": "Wpibes9g3YmI"
      },
      "execution_count": null,
      "outputs": []
    },
    {
      "cell_type": "code",
      "source": [
        "df.dtypes"
      ],
      "metadata": {
        "id": "T51r97h-3pUA"
      },
      "execution_count": null,
      "outputs": []
    },
    {
      "cell_type": "code",
      "source": [
        "cols=['education','cigsPerDay','BPMeds','totChol','BMI','heartRate','glucose']\n",
        "for col in cols:\n",
        "  df[col]=df[col].fillna(df[col].mode()[0])\n",
        "# cols=['education','cigsPerDay','BPMeds','glucose ']\n",
        "# for col in cols:\n",
        "#   df[col]=df[col].fillna(df[col].mode()[0])"
      ],
      "metadata": {
        "id": "svMNNX9J3vm_"
      },
      "execution_count": null,
      "outputs": []
    },
    {
      "cell_type": "code",
      "source": [
        "df.isna().sum()"
      ],
      "metadata": {
        "id": "5ZEwuqvh59TS"
      },
      "execution_count": null,
      "outputs": []
    },
    {
      "cell_type": "code",
      "source": [
        "X=df.iloc[:,:-1]\n",
        "X"
      ],
      "metadata": {
        "id": "MvFwUJHg6Wqn"
      },
      "execution_count": null,
      "outputs": []
    },
    {
      "cell_type": "code",
      "source": [
        "Y=df.iloc[:,-1]\n",
        "Y"
      ],
      "metadata": {
        "id": "FEnKDUCQ6ig6"
      },
      "execution_count": null,
      "outputs": []
    },
    {
      "cell_type": "code",
      "source": [
        "from sklearn.preprocessing import MinMaxScaler\n",
        "scaler=MinMaxScaler()\n",
        "X_scaled=scaler.fit_transform(X)"
      ],
      "metadata": {
        "id": "7hVKm5eP6t4S"
      },
      "execution_count": null,
      "outputs": []
    },
    {
      "cell_type": "code",
      "source": [
        "from sklearn.model_selection import train_test_split\n",
        "X_train,X_test,Y_train,Y_test=train_test_split(X_scaled,Y,random_state=1,test_size=0.3)"
      ],
      "metadata": {
        "id": "FL4O03L07W4g"
      },
      "execution_count": null,
      "outputs": []
    },
    {
      "cell_type": "code",
      "source": [
        "from sklearn.neighbors import KNeighborsClassifier\n",
        "knn=KNeighborsClassifier(n_neighbors=13)\n",
        "knn.fit(X_train,Y_train)"
      ],
      "metadata": {
        "id": "t-Qnb3g18ZNE"
      },
      "execution_count": null,
      "outputs": []
    },
    {
      "cell_type": "code",
      "source": [
        "Y_pred=knn.predict(X_test)\n",
        "Y_pred"
      ],
      "metadata": {
        "id": "V_PVpSut87Nh"
      },
      "execution_count": null,
      "outputs": []
    },
    {
      "cell_type": "code",
      "source": [
        "Y_test.values\n"
      ],
      "metadata": {
        "id": "RhTbdsKx9L8h"
      },
      "execution_count": null,
      "outputs": []
    },
    {
      "cell_type": "code",
      "source": [
        "from sklearn.metrics import accuracy_score\n",
        "print(accuracy_score(Y_test,Y_pred)*100)"
      ],
      "metadata": {
        "id": "DWPbCxru9cIa"
      },
      "execution_count": null,
      "outputs": []
    },
    {
      "cell_type": "code",
      "source": [
        "Y_new=knn.predict(scaler.transform([[1,39,4.0,0,0.0,0.0,0,0,0,195.0,106.0,70.0,26.978,0.0,77.0]]))\n",
        "Y_new"
      ],
      "metadata": {
        "id": "3ERR3dV--F1h"
      },
      "execution_count": null,
      "outputs": []
    },
    {
      "cell_type": "code",
      "source": [
        "from sklearn.metrics import ConfusionMatrixDisplay\n",
        "print(ConfusionMatrixDisplay.from_predictions(Y_test,Y_pred))"
      ],
      "metadata": {
        "id": "s7O3fkdh-yB9"
      },
      "execution_count": null,
      "outputs": []
    },
    {
      "cell_type": "code",
      "source": [
        "from sklearn.metrics import precision_score,recall_score\n",
        "print(\"precision:\",precision_score(Y_test,Y_pred)*100)\n",
        "print(\"recall:\",recall_score(Y_test,Y_pred)*100)"
      ],
      "metadata": {
        "id": "xEP06R90_Ov8"
      },
      "execution_count": null,
      "outputs": []
    },
    {
      "cell_type": "code",
      "source": [
        "from sklearn.metrics import classification_report\n",
        "print(classification_report(Y_test,Y_pred,digits=4))"
      ],
      "metadata": {
        "id": "InvdkqB0_Zpq"
      },
      "execution_count": null,
      "outputs": []
    },
    {
      "cell_type": "code",
      "source": [
        "(0.8563+ 0.1951)/2"
      ],
      "metadata": {
        "id": "431Sm4-u_vnf"
      },
      "execution_count": null,
      "outputs": []
    },
    {
      "cell_type": "code",
      "source": [
        "((0.8563 /( 1085+187))*1085)+((0.1951/(1085+187))*187)"
      ],
      "metadata": {
        "id": "6zKeNWoj_86I"
      },
      "execution_count": null,
      "outputs": []
    }
  ]
}