{
  "nbformat": 4,
  "nbformat_minor": 0,
  "metadata": {
    "colab": {
      "private_outputs": true,
      "provenance": [],
      "include_colab_link": true
    },
    "kernelspec": {
      "name": "python3",
      "display_name": "Python 3"
    },
    "language_info": {
      "name": "python"
    }
  },
  "cells": [
    {
      "cell_type": "markdown",
      "metadata": {
        "id": "view-in-github",
        "colab_type": "text"
      },
      "source": [
        "<a href=\"https://colab.research.google.com/github/remizah/Luminar_projects/blob/main/Luminar_paris_house_knn.ipynb\" target=\"_parent\"><img src=\"https://colab.research.google.com/assets/colab-badge.svg\" alt=\"Open In Colab\"/></a>"
      ]
    },
    {
      "cell_type": "code",
      "execution_count": null,
      "metadata": {
        "id": "_5nV1LWdmU1u"
      },
      "outputs": [],
      "source": [
        "# import pandas as pd\n",
        "# df=pd.read_csv('/content/drive/MyDrive/Datasets/Luminar_Paris_house_price.csv')\n",
        "# df"
      ]
    },
    {
      "cell_type": "code",
      "source": [
        "from google.colab import drive\n",
        "drive.mount('/content/drive')"
      ],
      "metadata": {
        "id": "SHQt6bONsnO_"
      },
      "execution_count": null,
      "outputs": []
    },
    {
      "cell_type": "code",
      "source": [
        "cd /content/drive/MyDrive/Datasets"
      ],
      "metadata": {
        "id": "KpIFpyJEwy6V"
      },
      "execution_count": null,
      "outputs": []
    },
    {
      "cell_type": "code",
      "source": [
        "import pandas as pd\n",
        "df=pd.read_csv('Paris_house_price.csv')\n",
        "df"
      ],
      "metadata": {
        "id": "pNpfo5SzxJvX"
      },
      "execution_count": null,
      "outputs": []
    },
    {
      "cell_type": "code",
      "source": [
        "df.isna().sum()"
      ],
      "metadata": {
        "id": "G-RueZjXm6vI"
      },
      "execution_count": null,
      "outputs": []
    },
    {
      "cell_type": "code",
      "source": [
        "cols=['hasStormProtector','basement','garage']\n",
        "for col in cols:\n",
        "  df[col]=df[col].fillna(df[col].mode()[0])"
      ],
      "metadata": {
        "id": "RGl_dqS3nByS"
      },
      "execution_count": null,
      "outputs": []
    },
    {
      "cell_type": "code",
      "source": [
        "df.dtypes"
      ],
      "metadata": {
        "id": "umkuS9idnzG6"
      },
      "execution_count": null,
      "outputs": []
    },
    {
      "cell_type": "code",
      "source": [
        "X=df.iloc[:,:-1]\n",
        "X"
      ],
      "metadata": {
        "id": "yA-yEQxCn1PC"
      },
      "execution_count": null,
      "outputs": []
    },
    {
      "cell_type": "code",
      "source": [
        "y=df.iloc[:,-1]\n",
        "y"
      ],
      "metadata": {
        "id": "XCxW-0LUn5rG"
      },
      "execution_count": null,
      "outputs": []
    },
    {
      "cell_type": "markdown",
      "source": [
        "splitting for test\n"
      ],
      "metadata": {
        "id": "ConL9bDXotnS"
      }
    },
    {
      "cell_type": "code",
      "source": [
        "from sklearn.preprocessing import MinMaxScaler\n",
        "scaler=MinMaxScaler()\n",
        "X_scaled=scaler.fit_transform(X)"
      ],
      "metadata": {
        "id": "MOdt4gKen81t"
      },
      "execution_count": null,
      "outputs": []
    },
    {
      "cell_type": "code",
      "source": [
        "from sklearn.model_selection import train_test_split\n",
        "X_train,X_test,y_train,y_test=train_test_split(X_scaled,y,test_size=0.3,random_state=1)"
      ],
      "metadata": {
        "id": "9cbXRp5hn_8l"
      },
      "execution_count": null,
      "outputs": []
    },
    {
      "cell_type": "markdown",
      "source": [
        "Linear reggresion model building"
      ],
      "metadata": {
        "id": "NqS7fPUvpHYr"
      }
    },
    {
      "cell_type": "code",
      "source": [
        "from sklearn.linear_model import LinearRegression\n",
        "mlr=LinearRegression()\n",
        "mlr.fit(X_train,y_train)"
      ],
      "metadata": {
        "id": "CaV9UVQcoFDA"
      },
      "execution_count": null,
      "outputs": []
    },
    {
      "cell_type": "markdown",
      "source": [
        "predict"
      ],
      "metadata": {
        "id": "NUaeQTC1pOm-"
      }
    },
    {
      "cell_type": "code",
      "source": [
        "y_pred=mlr.predict(X_test)\n",
        "y_pred"
      ],
      "metadata": {
        "id": "ro0zuMY6oIoX"
      },
      "execution_count": null,
      "outputs": []
    },
    {
      "cell_type": "markdown",
      "source": [
        "using knn reggresion"
      ],
      "metadata": {
        "id": "Dl8n4uYEpSkt"
      }
    },
    {
      "cell_type": "code",
      "source": [
        "from sklearn.neighbors import KNeighborsRegressor\n",
        "knn=KNeighborsRegressor(n_neighbors=5)\n",
        "knn.fit(X_train,y_train)"
      ],
      "metadata": {
        "id": "1pTW7tBtoMHp"
      },
      "execution_count": null,
      "outputs": []
    },
    {
      "cell_type": "code",
      "source": [
        "y_predknn=knn.predict(X_test)\n",
        "y_predknn"
      ],
      "metadata": {
        "id": "naxGf1YWoPkk"
      },
      "execution_count": null,
      "outputs": []
    },
    {
      "cell_type": "code",
      "source": [],
      "metadata": {
        "id": "p7e79t26qWP5"
      },
      "execution_count": null,
      "outputs": []
    },
    {
      "cell_type": "code",
      "source": [
        "import numpy as np\n",
        "from sklearn.metrics import r2_score,mean_absolute_error,mean_squared_error\n"
      ],
      "metadata": {
        "id": "LcoMrvjYp8kq"
      },
      "execution_count": null,
      "outputs": []
    },
    {
      "source": [
        "print('r2 score:',r2_score(y_test,y_predknn))\n",
        "print('MAE:',mean_absolute_error(y_test,y_predknn))\n",
        "print('MSE:',mean_squared_error(y_test,y_predknn))\n",
        "print('RMSE:',np.sqrt(mean_squared_error(y_test,y_predknn)))"
      ],
      "cell_type": "code",
      "metadata": {
        "id": "Z8XS11JjqtDP"
      },
      "execution_count": null,
      "outputs": []
    },
    {
      "source": [
        "# Define y_predknn\n",
        "y_predknn=knn.predict(X_test)\n",
        "\n",
        "# Print the metrics\n",
        "print('r2 score:',r2_score(y_test,y_predknn))\n",
        "print('MAE:',mean_absolute_error(y_test,y_predknn))\n",
        "print('MSE:',mean_squared_error(y_test,y_predknn))\n",
        "print('RMSE:',np.sqrt(mean_squared_error(y_test,y_predknn)))"
      ],
      "cell_type": "code",
      "metadata": {
        "id": "QKIvAolhqwXV"
      },
      "execution_count": null,
      "outputs": []
    },
    {
      "cell_type": "code",
      "source": [
        "print(r2_score(y_test,y_predknn))"
      ],
      "metadata": {
        "id": "hNnz8NkZppZP"
      },
      "execution_count": null,
      "outputs": []
    },
    {
      "cell_type": "code",
      "source": [
        "y_new=knn.predict([[75523,3,0,1,63,9373,3,8,2005,0,1.0,4313.0,9005,956.0,0,7]])\n",
        "y_new.item()"
      ],
      "metadata": {
        "id": "TUb7CmHFxuz9"
      },
      "execution_count": null,
      "outputs": []
    },
    {
      "cell_type": "code",
      "source": [],
      "metadata": {
        "id": "8W2mfasVyHaD"
      },
      "execution_count": null,
      "outputs": []
    }
  ]
}